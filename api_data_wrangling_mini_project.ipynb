{
 "cells": [
  {
   "cell_type": "markdown",
   "metadata": {},
   "source": [
    "This exercise will require you to pull some data from the Qunadl API. Qaundl is currently the most widely used aggregator of financial market data."
   ]
  },
  {
   "cell_type": "markdown",
   "metadata": {},
   "source": [
    "As a first step, you will need to register a free account on the http://www.quandl.com website."
   ]
  },
  {
   "cell_type": "markdown",
   "metadata": {},
   "source": [
    "After you register, you will be provided with a unique API key, that you should store:"
   ]
  },
  {
   "cell_type": "code",
   "execution_count": 1,
   "metadata": {},
   "outputs": [],
   "source": [
    "# Store the API key as a string - according to PEP8, constants are always named in all upper case\n",
    "# Fetch from outside repo: \n",
    "with open('../../QuandlAPI', 'r') as f:\n",
    "    API_KEY = f.read()"
   ]
  },
  {
   "cell_type": "markdown",
   "metadata": {},
   "source": [
    "Qaundl has a large number of data sources, but, unfortunately, most of them require a Premium subscription. Still, there are also a good number of free datasets."
   ]
  },
  {
   "cell_type": "markdown",
   "metadata": {},
   "source": [
    "For this mini project, we will focus on equities data from the Frankfurt Stock Exhange (FSE), which is available for free. We'll try and analyze the stock prices of a company called Carl Zeiss Meditec, which manufactures tools for eye examinations, as well as medical lasers for laser eye surgery: https://www.zeiss.com/meditec/int/home.html. The company is listed under the stock ticker AFX_X."
   ]
  },
  {
   "cell_type": "markdown",
   "metadata": {},
   "source": [
    "You can find the detailed Quandl API instructions here: https://docs.quandl.com/docs/time-series"
   ]
  },
  {
   "cell_type": "markdown",
   "metadata": {},
   "source": [
    "While there is a dedicated Python package for connecting to the Quandl API, we would prefer that you use the *requests* package, which can be easily downloaded using *pip* or *conda*. You can find the documentation for the package here: http://docs.python-requests.org/en/master/ "
   ]
  },
  {
   "cell_type": "markdown",
   "metadata": {},
   "source": [
    "Finally, apart from the *requests* package, you are encouraged to not use any third party Python packages, such as *pandas*, and instead focus on what's available in the Python Standard Library (the *collections* module might come in handy: https://pymotw.com/3/collections/ ).\n",
    "Also, since you won't have access to DataFrames, you are encouraged to us Python's native data structures - preferably dictionaries, though some questions can also be answered using lists.\n",
    "You can read more on these data structures here: https://docs.python.org/3/tutorial/datastructures.html"
   ]
  },
  {
   "cell_type": "markdown",
   "metadata": {},
   "source": [
    "Keep in mind that the JSON responses you will be getting from the API map almost one-to-one to Python's dictionaries. Unfortunately, they can be very nested, so make sure you read up on indexing dictionaries in the documentation provided above."
   ]
  },
  {
   "cell_type": "code",
   "execution_count": 2,
   "metadata": {},
   "outputs": [],
   "source": [
    "# First, import the relevant modules.\n",
    "# We are limiting ourselves to standard python libraries for this exercise\n",
    "import requests # This is the only package from outside the standard library allowed in this project. \n",
    "import statistics # Lib/statistics.py is part of the Standard Library so we are allowed to use it here. \n",
    "import operator # Lib/operator.py is allowed. "
   ]
  },
  {
   "cell_type": "code",
   "execution_count": 3,
   "metadata": {},
   "outputs": [],
   "source": [
    "# build URLs for the quandl API, incorporating the times-series parameters and default values\n",
    "def getURL(database='FRED', dataset='GDP', start='2000-01-01', end='2001-01-01', collapse='no', limit=0, order='asc', transform='no'): \n",
    "    URL = 'https://www.quandl.com/api/v3/datasets/%s/%s.json?api_key=%s' % (database, dataset, API_KEY)\n",
    "    kwargs = {'limit':limit, 'start_date':start, 'end_date':end, 'order':order, 'collapse':collapse, 'transform':transform}\n",
    "    for k, v in kwargs.items():\n",
    "        URL += '&' + k + '=' + str(v)\n",
    "    return URL"
   ]
  },
  {
   "cell_type": "code",
   "execution_count": 4,
   "metadata": {},
   "outputs": [
    {
     "data": {
      "text/plain": [
       "<Response [200]>"
      ]
     },
     "execution_count": 4,
     "metadata": {},
     "output_type": "execute_result"
    }
   ],
   "source": [
    "# Now, call the Quandl API and pull out a small sample of the data to get a glimpse\n",
    "# into the JSON structure that will be returned\n",
    "\n",
    "# All defaults for our test: \n",
    "testr = requests.get(getURL())\n",
    "testr # show response"
   ]
  },
  {
   "cell_type": "code",
   "execution_count": 5,
   "metadata": {},
   "outputs": [
    {
     "data": {
      "text/plain": [
       "{'dataset': {'id': 120140,\n",
       "  'dataset_code': 'GDP',\n",
       "  'database_code': 'FRED',\n",
       "  'name': 'Gross Domestic Product',\n",
       "  'description': 'Units: Billions of Dollars\\nSeasonal Adjustment: Seasonally Adjusted Annual Rate\\nNotes: A Guide to the National Income and Product Accounts of the United States (NIPA) - (http://www.bea.gov/national/pdf/nipaguid.pdf)',\n",
       "  'refreshed_at': '2021-03-26T01:13:27.583Z',\n",
       "  'newest_available_date': '2020-10-01',\n",
       "  'oldest_available_date': '1947-01-01',\n",
       "  'column_names': ['Date', 'Value'],\n",
       "  'frequency': 'quarterly',\n",
       "  'type': 'Time Series',\n",
       "  'premium': False,\n",
       "  'limit': 0,\n",
       "  'transform': None,\n",
       "  'column_index': None,\n",
       "  'start_date': '2000-01-01',\n",
       "  'end_date': '2001-01-01',\n",
       "  'data': [['2000-01-01', 10002.857],\n",
       "   ['2000-04-01', 10247.679],\n",
       "   ['2000-07-01', 10319.825],\n",
       "   ['2000-10-01', 10439.025],\n",
       "   ['2001-01-01', 10472.879]],\n",
       "  'collapse': None,\n",
       "  'order': 'asc',\n",
       "  'database_id': 118}}"
      ]
     },
     "execution_count": 5,
     "metadata": {},
     "output_type": "execute_result"
    }
   ],
   "source": [
    "# Inspect the JSON structure of the object you created, and take note of how nested it is,\n",
    "# as well as the overall structure\n",
    "testr.json()"
   ]
  },
  {
   "cell_type": "code",
   "execution_count": 6,
   "metadata": {},
   "outputs": [],
   "source": [
    "# We see a value would be located at dict['dataset']['data'][rownum][1]"
   ]
  },
  {
   "cell_type": "markdown",
   "metadata": {},
   "source": [
    "These are your tasks for this mini project:\n",
    "\n",
    "1. Collect data from the Frankfurt Stock Exchange, for the ticker AFX_X, for the whole year 2017 (keep in mind that the date format is YYYY-MM-DD).\n",
    "2. Convert the returned JSON object into a Python dictionary.\n",
    "3. Calculate what the highest and lowest opening prices were for the stock in this period.\n",
    "4. What was the largest change in any one day (based on High and Low price)?\n",
    "5. What was the largest change between any two days (based on Closing Price)?\n",
    "6. What was the average daily trading volume during this year?\n",
    "7. (Optional) What was the median trading volume during this year. (Note: you may need to implement your own function for calculating the median.)"
   ]
  },
  {
   "cell_type": "code",
   "execution_count": 10,
   "metadata": {},
   "outputs": [
    {
     "data": {
      "text/plain": [
       "<Response [200]>"
      ]
     },
     "execution_count": 10,
     "metadata": {},
     "output_type": "execute_result"
    }
   ],
   "source": [
    "URL = getURL('FSE', 'AFX_X', '2017-01-01', '2017-12-31')\n",
    "# Query \n",
    "r = requests.get(URL)\n",
    "r # Show response"
   ]
  },
  {
   "cell_type": "markdown",
   "metadata": {},
   "source": [
    "The above HTTP code finally tells us **OK** so we will proceed. "
   ]
  },
  {
   "cell_type": "code",
   "execution_count": 11,
   "metadata": {},
   "outputs": [],
   "source": [
    "# Extract the nested data\n",
    "columns = r.json()['dataset']['column_names']\n",
    "data = r.json()['dataset']['data']"
   ]
  },
  {
   "cell_type": "code",
   "execution_count": 12,
   "metadata": {},
   "outputs": [],
   "source": [
    "# We'll be collecting our calculations into a report\n",
    "report = {}"
   ]
  },
  {
   "cell_type": "markdown",
   "metadata": {},
   "source": [
    "The data is a list of rows with each row being a list of column values. \n",
    "So we will be able to access a single column using [row[colnum] for row in data]"
   ]
  },
  {
   "cell_type": "code",
   "execution_count": 13,
   "metadata": {},
   "outputs": [
    {
     "data": {
      "text/plain": [
       "['Date',\n",
       " 'Open',\n",
       " 'High',\n",
       " 'Low',\n",
       " 'Close',\n",
       " 'Change',\n",
       " 'Traded Volume',\n",
       " 'Turnover',\n",
       " 'Last Price of the Day',\n",
       " 'Daily Traded Units',\n",
       " 'Daily Turnover']"
      ]
     },
     "execution_count": 13,
     "metadata": {},
     "output_type": "execute_result"
    }
   ],
   "source": [
    "columns"
   ]
  },
  {
   "cell_type": "code",
   "execution_count": 14,
   "metadata": {},
   "outputs": [
    {
     "ename": "TypeError",
     "evalue": "'>' not supported between instances of 'NoneType' and 'float'",
     "output_type": "error",
     "traceback": [
      "\u001b[0;31m---------------------------------------------------------------------------\u001b[0m",
      "\u001b[0;31mTypeError\u001b[0m                                 Traceback (most recent call last)",
      "\u001b[0;32m<ipython-input-14-1e012535b6a9>\u001b[0m in \u001b[0;36m<module>\u001b[0;34m\u001b[0m\n\u001b[1;32m      2\u001b[0m \u001b[0mopen_id\u001b[0m \u001b[0;34m=\u001b[0m \u001b[0mcolumns\u001b[0m\u001b[0;34m.\u001b[0m\u001b[0mindex\u001b[0m\u001b[0;34m(\u001b[0m\u001b[0;34m'Open'\u001b[0m\u001b[0;34m)\u001b[0m\u001b[0;34m\u001b[0m\u001b[0;34m\u001b[0m\u001b[0m\n\u001b[1;32m      3\u001b[0m \u001b[0;31m# Calculate what the highest and lowest opening prices were for the stock in this period.\u001b[0m\u001b[0;34m\u001b[0m\u001b[0;34m\u001b[0m\u001b[0;34m\u001b[0m\u001b[0m\n\u001b[0;32m----> 4\u001b[0;31m \u001b[0mreport\u001b[0m\u001b[0;34m[\u001b[0m\u001b[0;34m'highest_open'\u001b[0m\u001b[0;34m]\u001b[0m \u001b[0;34m=\u001b[0m \u001b[0mmax\u001b[0m\u001b[0;34m(\u001b[0m\u001b[0;34m[\u001b[0m\u001b[0mrow\u001b[0m\u001b[0;34m[\u001b[0m\u001b[0mopen_id\u001b[0m\u001b[0;34m]\u001b[0m \u001b[0;32mfor\u001b[0m \u001b[0mrow\u001b[0m \u001b[0;32min\u001b[0m \u001b[0mdata\u001b[0m\u001b[0;34m]\u001b[0m\u001b[0;34m)\u001b[0m\u001b[0;34m\u001b[0m\u001b[0;34m\u001b[0m\u001b[0m\n\u001b[0m\u001b[1;32m      5\u001b[0m \u001b[0mreport\u001b[0m\u001b[0;34m[\u001b[0m\u001b[0;34m'lowest_open'\u001b[0m\u001b[0;34m]\u001b[0m \u001b[0;34m=\u001b[0m \u001b[0mmin\u001b[0m\u001b[0;34m(\u001b[0m\u001b[0;34m[\u001b[0m\u001b[0mrow\u001b[0m\u001b[0;34m[\u001b[0m\u001b[0mopen_id\u001b[0m\u001b[0;34m]\u001b[0m \u001b[0;32mfor\u001b[0m \u001b[0mrow\u001b[0m \u001b[0;32min\u001b[0m \u001b[0mdata\u001b[0m\u001b[0;34m]\u001b[0m\u001b[0;34m)\u001b[0m\u001b[0;34m\u001b[0m\u001b[0;34m\u001b[0m\u001b[0m\n",
      "\u001b[0;31mTypeError\u001b[0m: '>' not supported between instances of 'NoneType' and 'float'"
     ]
    }
   ],
   "source": [
    "# Find the index of the opening stock price column\n",
    "open_id = columns.index('Open')\n",
    "# Calculate what the highest and lowest opening prices were for the stock in this period.\n",
    "report['highest_open'] = max([row[open_id] for row in data])\n",
    "report['lowest_open'] = min([row[open_id] for row in data])"
   ]
  },
  {
   "cell_type": "markdown",
   "metadata": {},
   "source": [
    "\"NoneType\" must mean there are some blank records so we will clean them up and try again. "
   ]
  },
  {
   "cell_type": "code",
   "execution_count": 15,
   "metadata": {},
   "outputs": [],
   "source": [
    "# Remove the bad records\n",
    "cleandata = [row for row in data if type(row[open_id]) is not type(None)]\n",
    "\n",
    "# Calculate what the highest and lowest opening prices were for the stock in this period.\n",
    "report['Highest_Open'] = max([row[open_id] for row in cleandata])\n",
    "report['Lowest_Open'] = min([row[open_id] for row in cleandata])"
   ]
  },
  {
   "cell_type": "code",
   "execution_count": 16,
   "metadata": {},
   "outputs": [],
   "source": [
    "# What was the largest change in any one day (based on High and Low price)?\n",
    "lows = [row[columns.index('Low')] for row in data] # Select the Low column\n",
    "highs = [row[columns.index('High')] for row in data] # Select the High column\n",
    "changes = list(map(operator.sub, highs, lows)) # \n",
    "report['Largest_Change'] = max(changes)"
   ]
  },
  {
   "cell_type": "code",
   "execution_count": 17,
   "metadata": {},
   "outputs": [],
   "source": [
    "# What was the largest change between any two days (based on Closing Price)?\n",
    "\n",
    "# Select the column of interest\n",
    "closes = [row[columns.index('Close')] for row in data]\n",
    "# Calculate the changes between daily closes\n",
    "interdays = [x[0]-x[1] for x in zip(closes[1:], closes[0:-1])]\n",
    "# Report the largest\n",
    "report['Largest_Interday'] = max(interdays)"
   ]
  },
  {
   "cell_type": "code",
   "execution_count": 18,
   "metadata": {},
   "outputs": [],
   "source": [
    "# What was the average daily trading volume during this year?\n",
    "\n",
    "# Select the column of interest\n",
    "volumes = [row[columns.index('Traded Volume')] for row in data]\n",
    "# Report the average\n",
    "report['Average_Traded_Volume'] = statistics.mean(volumes)"
   ]
  },
  {
   "cell_type": "code",
   "execution_count": 19,
   "metadata": {},
   "outputs": [],
   "source": [
    "# What was the median trading volume during this year. \n",
    "\n",
    "# Report the median\n",
    "report['Median_Traded_Volume'] = statistics.median(volumes)"
   ]
  },
  {
   "cell_type": "markdown",
   "metadata": {},
   "source": [
    "For reference: \n",
    "- Calculate what the highest and lowest opening prices were for the stock in this period.\n",
    "- What was the largest change in any one day (based on High and Low price)?\n",
    "- What was the largest change between any two days (based on Closing Price)?\n",
    "- What was the average daily trading volume during this year?\n",
    "- What was the median trading volume during this year. "
   ]
  },
  {
   "cell_type": "code",
   "execution_count": 20,
   "metadata": {},
   "outputs": [
    {
     "data": {
      "text/plain": [
       "{'Highest_Open': 53.11,\n",
       " 'Lowest_Open': 34.0,\n",
       " 'Largest_Change': 2.8100000000000023,\n",
       " 'Largest_Interday': 1.7199999999999989,\n",
       " 'Average Traded Volume': 89124.33725490196,\n",
       " 'Median Traded Volume': 76286.0}"
      ]
     },
     "execution_count": 20,
     "metadata": {},
     "output_type": "execute_result"
    }
   ],
   "source": [
    "# Display the report of our calculations\n",
    "report"
   ]
  }
 ],
 "metadata": {
  "kernelspec": {
   "display_name": "Python 3",
   "language": "python",
   "name": "python3"
  },
  "language_info": {
   "codemirror_mode": {
    "name": "ipython",
    "version": 3
   },
   "file_extension": ".py",
   "mimetype": "text/x-python",
   "name": "python",
   "nbconvert_exporter": "python",
   "pygments_lexer": "ipython3",
   "version": "3.9.2"
  },
  "widgets": {
   "application/vnd.jupyter.widget-state+json": {
    "state": {},
    "version_major": 2,
    "version_minor": 0
   }
  }
 },
 "nbformat": 4,
 "nbformat_minor": 2
}
